{
  "nbformat": 4,
  "nbformat_minor": 0,
  "metadata": {
    "colab": {
      "name": "LetsUpgradeCode2.ipynb",
      "provenance": [],
      "collapsed_sections": [],
      "authorship_tag": "ABX9TyOatmLjkmLXtJz2BMHyPHws",
      "include_colab_link": true
    },
    "kernelspec": {
      "name": "python3",
      "display_name": "Python 3"
    }
  },
  "cells": [
    {
      "cell_type": "markdown",
      "metadata": {
        "id": "view-in-github",
        "colab_type": "text"
      },
      "source": [
        "<a href=\"https://colab.research.google.com/github/pygrade/LetsUpgradeCode2/blob/main/LetsUpgradeCode2.ipynb\" target=\"_parent\"><img src=\"https://colab.research.google.com/assets/colab-badge.svg\" alt=\"Open In Colab\"/></a>"
      ]
    },
    {
      "cell_type": "markdown",
      "metadata": {
        "id": "HbK8fV-7sNzM"
      },
      "source": [
        "**Assignment 2**"
      ]
    },
    {
      "cell_type": "code",
      "metadata": {
        "colab": {
          "base_uri": "https://localhost:8080/"
        },
        "id": "tZWW0KWWqU6a",
        "outputId": "65dc1f85-fd04-4665-f079-9481871cc81f"
      },
      "source": [
        "\n",
        "# Enter hight by Pilot\n",
        "hight=int(input(\"Enter Hight in feet \\n\"))\n",
        "\n",
        "if(hight<=1000):\n",
        "  print(\"Safe to land\")\n",
        "\n",
        "elif(hight<=5000):\n",
        "  print(\" Please come down to 1000ft\")\n",
        "\n",
        "else:\n",
        "  print(\"Go around and try later\")"
      ],
      "execution_count": null,
      "outputs": [
        {
          "output_type": "stream",
          "text": [
            "Enter Hight in feet \n",
            "999\n",
            "Safe to land\n"
          ],
          "name": "stdout"
        }
      ]
    },
    {
      "cell_type": "code",
      "metadata": {
        "id": "Rq5SkUxYqL-i"
      },
      "source": [
        ""
      ],
      "execution_count": null,
      "outputs": []
    }
  ]
}