{
  "nbformat": 4,
  "nbformat_minor": 0,
  "metadata": {
    "colab": {
      "name": "LetsUpgradecode3.ipynb",
      "provenance": [],
      "collapsed_sections": [],
      "authorship_tag": "ABX9TyOl0E5vD9hUlpPnEvLa90Kx",
      "include_colab_link": true
    },
    "kernelspec": {
      "name": "python3",
      "display_name": "Python 3"
    }
  },
  "cells": [
    {
      "cell_type": "markdown",
      "metadata": {
        "id": "view-in-github",
        "colab_type": "text"
      },
      "source": [
        "<a href=\"https://colab.research.google.com/github/pygrade/LetsUpgradeCode2/blob/main/LetsUpgradecode3.ipynb\" target=\"_parent\"><img src=\"https://colab.research.google.com/assets/colab-badge.svg\" alt=\"Open In Colab\"/></a>"
      ]
    },
    {
      "cell_type": "markdown",
      "metadata": {
        "id": "iLgkIZQixNt0"
      },
      "source": [
        "**Prime Number Program in Python**"
      ]
    },
    {
      "cell_type": "code",
      "metadata": {
        "colab": {
          "base_uri": "https://localhost:8080/"
        },
        "id": "_ssmeABIxc-6",
        "outputId": "d9c89e4c-08bb-4bc9-cd88-088dd456757a"
      },
      "source": [
        "#  Get Input Number from User to check \n",
        "\n",
        "num=int(input(\"Enter a number:\"))\n",
        "\n",
        "# To check if given number is greater than 1\n",
        "if num >1:\n",
        "\n",
        "   \n",
        "  # Iterate froom 2 to num/2\n",
        "  for i in range(2,num):\n",
        "    #If num is divisible by any number between \n",
        "    #2 and num/2\n",
        "\n",
        "    if(num%i)==0:\n",
        "      print(num,\"is not a prime number\")\n",
        "      break\n",
        "  else:\n",
        "      print(num,\"is a prime number\")\n",
        "else:\n",
        "  print(num,\"is not a prime number\")\n"
      ],
      "execution_count": null,
      "outputs": [
        {
          "output_type": "stream",
          "text": [
            "Enter a number:39\n",
            "39 is not a prime number\n"
          ],
          "name": "stdout"
        }
      ]
    }
  ]
}